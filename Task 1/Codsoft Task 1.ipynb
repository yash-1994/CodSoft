{
  "cells": [
    {
      "cell_type": "code",
      "execution_count": 1,
      "metadata": {
        "id": "Kk_Rjt2-GjvJ"
      },
      "outputs": [],
      "source": [
        "import pandas as pd\n",
        "import requests\n",
        "from sklearn.feature_extraction.text import TfidfVectorizer\n",
        "from sklearn.linear_model import LogisticRegression\n",
        "from sklearn.metrics import accuracy_score\n",
        "from sklearn.svm import SVC\n",
        "from sklearn.naive_bayes import MultinomialNB"
      ]
    },
    {
      "cell_type": "code",
      "execution_count": 2,
      "metadata": {
        "id": "3MSo6uz2Mkb7"
      },
      "outputs": [],
      "source": [
        "github_url = 'https://raw.githubusercontent.com/yash-1994/CodSoft/main/Task%201/test_data.txt'\n",
        "response = requests.get(github_url)\n",
        "\n",
        "if response.status_code != 200:\n",
        "    print('Error in fetching test data')\n",
        "    exit()\n",
        "\n",
        "content = response.text\n",
        "lines = content.split('\\n')\n",
        "data = [line.strip().split(' ::: ') for line in lines]\n",
        "cols = ['ID', 'TITLE', 'DESC']\n",
        "test_data = pd.DataFrame(data, columns=cols)\n",
        "\n",
        "github_url = 'https://raw.githubusercontent.com/yash-1994/CodSoft/main/Task%201/train_data.txt'\n",
        "response = requests.get(github_url)\n",
        "\n",
        "if response.status_code != 200:\n",
        "    print('Error in fetching train data')\n",
        "    exit()\n",
        "\n",
        "content = response.text\n",
        "lines = content.split('\\n')\n",
        "data = [line.strip().split(':::') for line in lines]\n",
        "cols = ['ID', 'TITLE', 'GENRA', 'DESC']\n",
        "train_data = pd.DataFrame(data, columns=cols)\n",
        "\n",
        "github_url = 'https://raw.githubusercontent.com/yash-1994/CodSoft/main/Task%201/test_data_solution.txt'\n",
        "response = requests.get(github_url)\n",
        "\n",
        "if response.status_code != 200:\n",
        "    print('Error in fetching test solution data')\n",
        "    exit()\n",
        "\n",
        "content = response.text\n",
        "lines = content.split('\\n')\n",
        "data = [line.strip().split(':::') for line in lines]\n",
        "cols = ['ID', 'TITLE', 'GENRE', 'DESC']\n",
        "train_data_sol = pd.DataFrame(data, columns=cols)"
      ]
    },
    {
      "cell_type": "code",
      "execution_count": 3,
      "metadata": {
        "id": "KUCf40uCMqdj"
      },
      "outputs": [],
      "source": [
        "\n",
        "train_data['TITLE_DESC_COM'] = train_data['TITLE'] + ' ' + train_data['DESC']\n",
        "test_data['TITLE_DESC_COM'] = test_data['TITLE'] + ' ' + test_data['DESC']\n",
        "\n",
        "tfidf_vec = TfidfVectorizer(max_features=5000)\n",
        "\n",
        "train_data = train_data.dropna(subset=['TITLE_DESC_COM'])\n",
        "\n",
        "x_train_data = tfidf_vec.fit_transform(train_data['TITLE_DESC_COM'])\n",
        "y_train_data = train_data['GENRA']\n",
        "\n",
        "test_data = test_data.dropna(subset=['TITLE_DESC_COM'])\n",
        "x_test_data = tfidf_vec.transform(test_data['TITLE_DESC_COM'])\n",
        "train_data_sol = train_data_sol.drop(train_data_sol.tail(1).index)"
      ]
    },
    {
      "cell_type": "code",
      "execution_count": 4,
      "metadata": {
        "id": "H2exXQNMMu-8"
      },
      "outputs": [],
      "source": [
        "log_reg_model = LogisticRegression(max_iter=1000)\n",
        "\n",
        "log_reg_model.fit(x_train_data, y_train_data)\n",
        "y_test_pred = log_reg_model.predict(x_test_data)\n",
        "\n",
        "log_reg_acr = accuracy_score(train_data_sol['GENRE'], y_test_pred)\n",
        "\n",
        "log_reg_acr = log_reg_acr * 100"
      ]
    },
    {
      "cell_type": "code",
      "execution_count": 5,
      "metadata": {
        "id": "1SOeI8QAQ9-c"
      },
      "outputs": [],
      "source": [
        "\n",
        "nb_model = MultinomialNB()\n",
        "\n",
        "nb_model.fit(x_train_data, y_train_data)\n",
        "\n",
        "y_test_pred_nb = nb_model.predict(x_test_data)\n",
        "\n",
        "accuracy_nb = accuracy_score(train_data_sol['GENRE'], y_test_pred_nb)\n",
        "accuracy_nb = accuracy_nb * 100"
      ]
    },
    {
      "cell_type": "code",
      "source": [
        "print(f'Accuracy of Logistic Regression model is {log_reg_acr} and Naive Byses is {accuracy_nb}')"
      ],
      "metadata": {
        "colab": {
          "base_uri": "https://localhost:8080/"
        },
        "id": "C-gPuYUgs04A",
        "outputId": "9bb25930-e560-4363-ad1a-b9cae1377c1a"
      },
      "execution_count": 6,
      "outputs": [
        {
          "output_type": "stream",
          "name": "stdout",
          "text": [
            "Accuracy of Logistic Regression model is 59.57564575645756 and Naive Byses is 51.48154981549815\n"
          ]
        }
      ]
    }
  ],
  "metadata": {
    "colab": {
      "provenance": []
    },
    "kernelspec": {
      "display_name": "Python 3",
      "name": "python3"
    },
    "language_info": {
      "name": "python"
    }
  },
  "nbformat": 4,
  "nbformat_minor": 0
}